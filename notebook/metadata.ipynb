{
 "cells": [
  {
   "cell_type": "code",
   "execution_count": 1,
   "metadata": {},
   "outputs": [],
   "source": [
    "import pandas as pd\n",
    "import numpy as np"
   ]
  },
  {
   "cell_type": "code",
   "execution_count": 2,
   "metadata": {},
   "outputs": [],
   "source": [
    "df_train = pd.read_csv(\"data/processed/train_df_fold.csv\")\n",
    "df_input = pd.read_csv(\"data/input/train_records.csv\")"
   ]
  },
  {
   "cell_type": "code",
   "execution_count": 3,
   "metadata": {},
   "outputs": [
    {
     "name": "stdout",
     "output_type": "stream",
     "text": [
      "   epoch           meas_time  label       id  fold  night  age   sex  \\\n",
      "0      0 1989-11-13 21:35:00      0  3c1c5cf     1      1   90  male   \n",
      "1      1 1989-11-13 21:35:30      0  3c1c5cf     1      1   90  male   \n",
      "2      2 1989-11-13 21:36:00      0  3c1c5cf     1      1   90  male   \n",
      "3      3 1989-11-13 21:36:30      0  3c1c5cf     1      1   90  male   \n",
      "4      4 1989-11-13 21:37:00      0  3c1c5cf     1      1   90  male   \n",
      "\n",
      "   sleep_duration  label_before  \n",
      "0             0.0           0.0  \n",
      "1             0.5           0.0  \n",
      "2             1.0           0.0  \n",
      "3             1.5           0.0  \n",
      "4             2.0           0.0  \n",
      "   epoch            meas_time  label       id  fold\n",
      "0      0  1989-11-13 21:35:00      0  3c1c5cf     1\n",
      "1      1  1989-11-13 21:35:30      0  3c1c5cf     1\n",
      "2      2  1989-11-13 21:36:00      0  3c1c5cf     1\n",
      "3      3  1989-11-13 21:36:30      0  3c1c5cf     1\n",
      "4      4  1989-11-13 21:37:00      0  3c1c5cf     1\n",
      "0.0\n",
      "839.5\n"
     ]
    }
   ],
   "source": [
    "df_list = []\n",
    "\n",
    "# df_inputを1行ずつ見ていく\n",
    "for i in range(len(df_input)):\n",
    "    check_id = df_input[\"id\"].iloc[i]\n",
    "    # df_trainのidがcheck_idと一致する行を抽出\n",
    "    df_train_id = df_train.loc[df_train[\"id\"] == check_id].copy()\n",
    "    if len(df_train_id) == 0:\n",
    "        continue\n",
    "    df_train_id[\"night\"] = df_input[\"night\"][i]\n",
    "    df_train_id[\"age\"] = df_input[\"age\"][i]\n",
    "    df_train_id[\"sex\"] = df_input[\"sex\"][i]\n",
    "\n",
    "    # df_train_idに消灯時間からの時間を追加\n",
    "    # df_inputのlights_offとdf_train_idのmeas_timeの差分を取る\n",
    "    df_input[\"lights_off\"] = pd.to_datetime(df_input[\"lights_off\"])\n",
    "    df_train_id[\"meas_time\"] = pd.to_datetime(df_train_id[\"meas_time\"])\n",
    "    # lights_offの年月をmeas_timeの年月に合わせる\n",
    "    y, m, d = df_train_id[\"meas_time\"].iloc[0].year, df_train_id[\"meas_time\"].iloc[0].month, df_train_id[\"meas_time\"].iloc[0].day\n",
    "    df_train_id[\"sleep_duration\"] = (df_train_id[\"meas_time\"] - df_train_id[\"meas_time\"].iloc[0]).dt.total_seconds() / 60\n",
    "\n",
    "    # df_train_idに一個前のラベルを追加\n",
    "    df_train_id[\"label_before\"] = df_train_id[\"label\"].shift(1)\n",
    "\n",
    "    df_list.append(df_train_id)\n",
    "\n",
    "# 結合\n",
    "df_train_with_meta = pd.concat(df_list)\n",
    "\n",
    "# label_beforeの欠損値をその行のlabelに置き換える\n",
    "df_train_with_meta[\"label_before\"] = df_train_with_meta[\"label_before\"].fillna(df_train_with_meta[\"label\"])\n",
    "\n",
    "print(df_train_with_meta.head())\n",
    "print(df_train.head())\n",
    "# sleep_durationの最小値を取得\n",
    "print(df_train_with_meta[\"sleep_duration\"].min())\n",
    "print(df_train_with_meta[\"sleep_duration\"].max())"
   ]
  },
  {
   "cell_type": "code",
   "execution_count": 4,
   "metadata": {},
   "outputs": [
    {
     "name": "stdout",
     "output_type": "stream",
     "text": [
      "0    106\n",
      "2      2\n",
      "Name: label, dtype: int64\n",
      "0    106\n",
      "2      2\n",
      "Name: label, dtype: int64\n"
     ]
    }
   ],
   "source": [
    "# df_trainでepochが0の行のlabelを取得して、各ラベルの数をカウント\n",
    "print(df_train.loc[df_train[\"epoch\"] == 0][\"label\"].value_counts())\n",
    "print(df_train_with_meta.loc[df_train_with_meta[\"epoch\"] == 0][\"label\"].value_counts())"
   ]
  },
  {
   "cell_type": "code",
   "execution_count": 5,
   "metadata": {},
   "outputs": [],
   "source": [
    "# df_list内のDataframeのindexが連続しているか確認\n",
    "idx_tmp = -1\n",
    "for df_i in range(len(df_list)):\n",
    "    for idx in df_list[df_i].index:\n",
    "        if idx_tmp + 1 != idx:\n",
    "            print(df_i, idx)\n",
    "        idx_tmp = idx"
   ]
  },
  {
   "cell_type": "code",
   "execution_count": 6,
   "metadata": {},
   "outputs": [
    {
     "name": "stdout",
     "output_type": "stream",
     "text": [
      "161610\n",
      "161610\n"
     ]
    }
   ],
   "source": [
    "print(len(df_train_with_meta))\n",
    "print(len(df_train))"
   ]
  },
  {
   "cell_type": "code",
   "execution_count": null,
   "metadata": {},
   "outputs": [],
   "source": []
  }
 ],
 "metadata": {
  "kernelspec": {
   "display_name": "kaggle",
   "language": "python",
   "name": "python3"
  },
  "language_info": {
   "codemirror_mode": {
    "name": "ipython",
    "version": 3
   },
   "file_extension": ".py",
   "mimetype": "text/x-python",
   "name": "python",
   "nbconvert_exporter": "python",
   "pygments_lexer": "ipython3",
   "version": "3.10.4"
  },
  "orig_nbformat": 4,
  "vscode": {
   "interpreter": {
    "hash": "e2ecdb93e1b4b6025ad3c17bf1e82710492b7a625738b8ce59694b20b51dba53"
   }
  }
 },
 "nbformat": 4,
 "nbformat_minor": 2
}
