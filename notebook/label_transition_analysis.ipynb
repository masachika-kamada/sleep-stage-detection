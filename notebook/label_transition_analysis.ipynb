{
 "cells": [
  {
   "cell_type": "code",
   "execution_count": 1,
   "metadata": {},
   "outputs": [],
   "source": [
    "import pandas as pd\n",
    "import numpy as np\n",
    "import matplotlib.pyplot as plt\n",
    "from parameters.data_path import DIR_PROCESSED, DIR_OUTPUT\n",
    "from parameters.variables import LABEL2ID"
   ]
  },
  {
   "cell_type": "code",
   "execution_count": 2,
   "metadata": {},
   "outputs": [],
   "source": [
    "# numpy.ndarrayの表示で指数表記をしないようにする\n",
    "np.set_printoptions(suppress=True)\n",
    "\n",
    "def get_matrix(df):\n",
    "    # どのラベルからどのラベルに遷移したかをカウントする\n",
    "    # 縦軸が遷移先、横軸が遷移元\n",
    "    matrix = np.zeros((5, 5))\n",
    "    for id_ in df[\"id\"].unique():\n",
    "        df_id = df[df[\"id\"] == id_]\n",
    "        for i in range(1, len(df_id)):\n",
    "            matrix[df_id.iloc[i][\"label\"], df_id.iloc[i-1][\"label\"]] += 1\n",
    "    print(matrix)\n",
    "    # plt.imshow(matrix)を2枚横に並べて表示する\n",
    "    fig, axes = plt.subplots(1, 2, figsize=(8, 4))\n",
    "    axes[0].imshow(matrix)\n",
    "    for i in range(5):\n",
    "        matrix[i][i] = None\n",
    "    axes[1].imshow(matrix)"
   ]
  },
  {
   "cell_type": "code",
   "execution_count": null,
   "metadata": {},
   "outputs": [
    {
     "name": "stdout",
     "output_type": "stream",
     "text": [
      "[[71890.  1151.   644.    87.   324.]\n",
      " [ 2058.  9982.  1260.    60.   518.]\n",
      " [  104.  2300. 42634.  1730.   248.]\n",
      " [    4.     7.  1877.  6628.     1.]\n",
      " [   55.   431.   595.    12. 16902.]]\n"
     ]
    },
    {
     "data": {
      "image/png": "[encoded data removed]",
      "text/plain": [
       "<Figure size 576x288 with 2 Axes>"
      ]
     },
     "metadata": {
      "needs_background": "light"
     },
     "output_type": "display_data"
    }
   ],
   "source": [
    "df = pd.read_csv(f\"{DIR_PROCESSED}/train_df_meta.csv\")\n",
    "get_matrix(df)"
   ]
  },
  {
   "cell_type": "code",
   "execution_count": null,
   "metadata": {},
   "outputs": [
    {
     "name": "stdout",
     "output_type": "stream",
     "text": [
      "[[14506.   462.   261.    47.   134.]\n",
      " [  859.  3474.   637.    11.   143.]\n",
      " [   24.  1048. 18468.   456.   199.]\n",
      " [    1.     0.   516.  3603.     1.]\n",
      " [   20.   140.   313.     4.  6924.]]\n"
     ]
    },
    {
     "data": {
      "image/png": "[encoded data removed]",
      "text/plain": [
       "<Figure size 576x288 with 2 Axes>"
      ]
     },
     "metadata": {
      "needs_background": "light"
     },
     "output_type": "display_data"
    }
   ],
   "source": [
    "df_pred1 = pd.read_csv(f\"{DIR_OUTPUT}/submits/230119_b0_meta_5_noaug_v1.csv\")\n",
    "df_pred1[\"label\"] = df_pred1[\"condition\"].map(LABEL2ID)\n",
    "get_matrix(df_pred1)"
   ]
  },
  {
   "cell_type": "code",
   "execution_count": null,
   "metadata": {},
   "outputs": [
    {
     "name": "stdout",
     "output_type": "stream",
     "text": [
      "[[14505.   462.   261.    47.   134.]\n",
      " [  859.  3475.   637.    11.   143.]\n",
      " [   24.  1048. 18468.   455.   198.]\n",
      " [    1.     0.   515.  3605.     1.]\n",
      " [   20.   140.   312.     4.  6926.]]\n"
     ]
    },
    {
     "data": {
      "image/png": "[encoded data removed]",
      "text/plain": [
       "<Figure size 576x288 with 2 Axes>"
      ]
     },
     "metadata": {
      "needs_background": "light"
     },
     "output_type": "display_data"
    }
   ],
   "source": [
    "df_pred2 = pd.read_csv(f\"{DIR_OUTPUT}/submits/230119_b0_meta_5_noaug.csv\")\n",
    "df_pred2[\"label\"] = df_pred2[\"condition\"].map(LABEL2ID)\n",
    "get_matrix(df_pred2)"
   ]
  },
  {
   "cell_type": "code",
   "execution_count": null,
   "metadata": {},
   "outputs": [
    {
     "name": "stdout",
     "output_type": "stream",
     "text": [
      "[[14161.   439.   356.    45.   153.]\n",
      " [  879.  2800.   602.     9.   303.]\n",
      " [   61.  1044. 19111.   539.   240.]\n",
      " [    0.     0.   595.  3505.     0.]\n",
      " [   53.   310.   331.     2.  6713.]]\n"
     ]
    },
    {
     "data": {
      "image/png": "[encoded data removed]",
      "text/plain": [
       "<Figure size 576x288 with 2 Axes>"
      ]
     },
     "metadata": {
      "needs_background": "light"
     },
     "output_type": "display_data"
    }
   ],
   "source": [
    "df_pred3 = pd.read_csv(f\"{DIR_OUTPUT}/submits/submit_efficientnet_b0_add_metadata_v5.csv\")\n",
    "df_pred3[\"label\"] = df_pred3[\"condition\"].map(LABEL2ID)\n",
    "get_matrix(df_pred3)"
   ]
  },
  {
   "attachments": {},
   "cell_type": "markdown",
   "metadata": {},
   "source": [
    "LBが低いもの（0.822）でやってみる"
   ]
  },
  {
   "cell_type": "code",
   "execution_count": 4,
   "metadata": {},
   "outputs": [
    {
     "name": "stdout",
     "output_type": "stream",
     "text": [
      "[[14397.   567.   485.    73.   278.]\n",
      " [  964.  1989.   853.     5.   377.]\n",
      " [  226.  1229. 17638.   554.   665.]\n",
      " [    4.     0.   628.  3518.     0.]\n",
      " [  209.   403.   708.     0.  6481.]]\n"
     ]
    },
    {
     "data": {
      "image/png": "[encoded data removed]",
      "text/plain": [
       "<Figure size 576x288 with 2 Axes>"
      ]
     },
     "metadata": {
      "needs_background": "light"
     },
     "output_type": "display_data"
    }
   ],
   "source": [
    "df_pred4 = pd.read_csv(f\"{DIR_OUTPUT}/submits/230112_tfb0nomix.csv\")\n",
    "df_pred4[\"label\"] = df_pred4[\"condition\"].map(LABEL2ID)\n",
    "get_matrix(df_pred4)"
   ]
  },
  {
   "cell_type": "code",
   "execution_count": null,
   "metadata": {},
   "outputs": [],
   "source": []
  }
 ],
 "metadata": {
  "kernelspec": {
   "display_name": "kaggle",
   "language": "python",
   "name": "python3"
  },
  "language_info": {
   "codemirror_mode": {
    "name": "ipython",
    "version": 3
   },
   "file_extension": ".py",
   "mimetype": "text/x-python",
   "name": "python",
   "nbconvert_exporter": "python",
   "pygments_lexer": "ipython3",
   "version": "3.10.4"
  },
  "orig_nbformat": 4,
  "vscode": {
   "interpreter": {
    "hash": "e2ecdb93e1b4b6025ad3c17bf1e82710492b7a625738b8ce59694b20b51dba53"
   }
  }
 },
 "nbformat": 4,
 "nbformat_minor": 2
}
